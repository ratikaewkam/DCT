{
 "cells": [
  {
   "cell_type": "code",
   "execution_count": null,
   "id": "ebb63748-b464-48c8-9609-a87a3c9df556",
   "metadata": {},
   "outputs": [],
   "source": []
  }
 ],
 "metadata": {
  "kernelspec": {
   "display_name": "",
   "name": ""
  },
  "language_info": {
   "name": ""
  }
 },
 "nbformat": 4,
 "nbformat_minor": 5
}
