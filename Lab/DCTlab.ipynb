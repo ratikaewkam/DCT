{
 "cells": [
  {
   "cell_type": "code",
   "execution_count": 6,
   "id": "ebb63748-b464-48c8-9609-a87a3c9df556",
   "metadata": {},
   "outputs": [],
   "source": [
    "import numpy as np\n",
    "import matplotlib.pyplot as plt\n",
    "import math"
   ]
  },
  {
   "cell_type": "markdown",
   "id": "c35a4156-56a8-448c-b46b-446fb0141325",
   "metadata": {},
   "source": [
    "#### Using fft.dct"
   ]
  },
  {
   "cell_type": "code",
   "execution_count": 98,
   "id": "5a7702ae-4f27-4108-97f0-47d2d2b7a70a",
   "metadata": {},
   "outputs": [],
   "source": [
    "from scipy import fft\n",
    "test = fft.dct([1, 2, 3, 4], 2, norm='ortho')"
   ]
  },
  {
   "cell_type": "code",
   "execution_count": 99,
   "id": "1f4c5525-cf71-4b55-850a-d117c3a88f22",
   "metadata": {},
   "outputs": [
    {
     "data": {
      "text/plain": [
       "array([ 5.        , -2.2304425 ,  0.        , -0.15851267])"
      ]
     },
     "execution_count": 99,
     "metadata": {},
     "output_type": "execute_result"
    }
   ],
   "source": [
    "test"
   ]
  },
  {
   "cell_type": "markdown",
   "id": "8f2264d2-166f-4a47-ac95-e197db761e3f",
   "metadata": {},
   "source": [
    "#### Build 1D-DCT II Function"
   ]
  },
  {
   "cell_type": "code",
   "execution_count": 108,
   "id": "b6237bec-648d-4de9-b4f0-8927b0878b34",
   "metadata": {},
   "outputs": [],
   "source": [
    "def dct(data):\n",
    "    N = len(data)\n",
    "    f = 0\n",
    "    cof = np.zeros(N)\n",
    "    for k in range(N):\n",
    "        if k==0:\n",
    "            f = math.sqrt(1/(4*N))\n",
    "        else:\n",
    "            f = math.sqrt(1/(2*N))\n",
    "\n",
    "        s = 0\n",
    "        for n in range(N):\n",
    "            out = data[n] * math.cos((math.pi*k) / (2*N) * (2*n+1))\n",
    "            s = s + out\n",
    "        cof[k] = 2 * f * s\n",
    "    return np.around(cof, decimals=7)"
   ]
  },
  {
   "cell_type": "code",
   "execution_count": 74,
   "id": "721cff16-b8f1-47aa-b2a4-0120d3c1a9dc",
   "metadata": {},
   "outputs": [
    {
     "data": {
      "text/plain": [
       "array([1, 2, 3, 4])"
      ]
     },
     "execution_count": 74,
     "metadata": {},
     "output_type": "execute_result"
    }
   ],
   "source": [
    "data = np.array([1,2, 3, 4])\n",
    "data"
   ]
  },
  {
   "cell_type": "code",
   "execution_count": 112,
   "id": "fcae9c05-31a0-4dc7-af13-e009a749e311",
   "metadata": {},
   "outputs": [
    {
     "data": {
      "text/plain": [
       "array([ 5.       , -2.2304425, -0.       , -0.1585127])"
      ]
     },
     "execution_count": 112,
     "metadata": {},
     "output_type": "execute_result"
    }
   ],
   "source": [
    "output = dct(data)\n",
    "output"
   ]
  }
 ],
 "metadata": {
  "kernelspec": {
   "display_name": "Python 3 (ipykernel)",
   "language": "python",
   "name": "python3"
  },
  "language_info": {
   "codemirror_mode": {
    "name": "ipython",
    "version": 3
   },
   "file_extension": ".py",
   "mimetype": "text/x-python",
   "name": "python",
   "nbconvert_exporter": "python",
   "pygments_lexer": "ipython3",
   "version": "3.12.4"
  }
 },
 "nbformat": 4,
 "nbformat_minor": 5
}
